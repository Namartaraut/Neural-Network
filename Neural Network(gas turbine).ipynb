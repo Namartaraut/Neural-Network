{
 "cells": [
  {
   "cell_type": "code",
   "execution_count": 2,
   "metadata": {},
   "outputs": [],
   "source": [
    "from tensorflow import keras\n",
    "from keras.models import Sequential\n",
    "from keras.layers import Dense\n",
    "import numpy as np\n",
    "import pandas as pd\n",
    "from sklearn.preprocessing import StandardScaler\n",
    "import math\n",
    "from sklearn.metrics import mean_squared_error"
   ]
  },
  {
   "cell_type": "code",
   "execution_count": 3,
   "metadata": {},
   "outputs": [
    {
     "data": {
      "text/html": [
       "<div>\n",
       "<style scoped>\n",
       "    .dataframe tbody tr th:only-of-type {\n",
       "        vertical-align: middle;\n",
       "    }\n",
       "\n",
       "    .dataframe tbody tr th {\n",
       "        vertical-align: top;\n",
       "    }\n",
       "\n",
       "    .dataframe thead th {\n",
       "        text-align: right;\n",
       "    }\n",
       "</style>\n",
       "<table border=\"1\" class=\"dataframe\">\n",
       "  <thead>\n",
       "    <tr style=\"text-align: right;\">\n",
       "      <th></th>\n",
       "      <th>AT</th>\n",
       "      <th>AP</th>\n",
       "      <th>AH</th>\n",
       "      <th>AFDP</th>\n",
       "      <th>GTEP</th>\n",
       "      <th>TIT</th>\n",
       "      <th>TAT</th>\n",
       "      <th>TEY</th>\n",
       "      <th>CDP</th>\n",
       "      <th>CO</th>\n",
       "      <th>NOX</th>\n",
       "    </tr>\n",
       "  </thead>\n",
       "  <tbody>\n",
       "    <tr>\n",
       "      <th>0</th>\n",
       "      <td>6.8594</td>\n",
       "      <td>1007.9</td>\n",
       "      <td>96.799</td>\n",
       "      <td>3.5000</td>\n",
       "      <td>19.663</td>\n",
       "      <td>1059.2</td>\n",
       "      <td>550.00</td>\n",
       "      <td>114.70</td>\n",
       "      <td>10.605</td>\n",
       "      <td>3.1547</td>\n",
       "      <td>82.722</td>\n",
       "    </tr>\n",
       "    <tr>\n",
       "      <th>1</th>\n",
       "      <td>6.7850</td>\n",
       "      <td>1008.4</td>\n",
       "      <td>97.118</td>\n",
       "      <td>3.4998</td>\n",
       "      <td>19.728</td>\n",
       "      <td>1059.3</td>\n",
       "      <td>550.00</td>\n",
       "      <td>114.72</td>\n",
       "      <td>10.598</td>\n",
       "      <td>3.2363</td>\n",
       "      <td>82.776</td>\n",
       "    </tr>\n",
       "    <tr>\n",
       "      <th>2</th>\n",
       "      <td>6.8977</td>\n",
       "      <td>1008.8</td>\n",
       "      <td>95.939</td>\n",
       "      <td>3.4824</td>\n",
       "      <td>19.779</td>\n",
       "      <td>1059.4</td>\n",
       "      <td>549.87</td>\n",
       "      <td>114.71</td>\n",
       "      <td>10.601</td>\n",
       "      <td>3.2012</td>\n",
       "      <td>82.468</td>\n",
       "    </tr>\n",
       "    <tr>\n",
       "      <th>3</th>\n",
       "      <td>7.0569</td>\n",
       "      <td>1009.2</td>\n",
       "      <td>95.249</td>\n",
       "      <td>3.4805</td>\n",
       "      <td>19.792</td>\n",
       "      <td>1059.6</td>\n",
       "      <td>549.99</td>\n",
       "      <td>114.72</td>\n",
       "      <td>10.606</td>\n",
       "      <td>3.1923</td>\n",
       "      <td>82.670</td>\n",
       "    </tr>\n",
       "    <tr>\n",
       "      <th>4</th>\n",
       "      <td>7.3978</td>\n",
       "      <td>1009.7</td>\n",
       "      <td>95.150</td>\n",
       "      <td>3.4976</td>\n",
       "      <td>19.765</td>\n",
       "      <td>1059.7</td>\n",
       "      <td>549.98</td>\n",
       "      <td>114.72</td>\n",
       "      <td>10.612</td>\n",
       "      <td>3.2484</td>\n",
       "      <td>82.311</td>\n",
       "    </tr>\n",
       "    <tr>\n",
       "      <th>...</th>\n",
       "      <td>...</td>\n",
       "      <td>...</td>\n",
       "      <td>...</td>\n",
       "      <td>...</td>\n",
       "      <td>...</td>\n",
       "      <td>...</td>\n",
       "      <td>...</td>\n",
       "      <td>...</td>\n",
       "      <td>...</td>\n",
       "      <td>...</td>\n",
       "      <td>...</td>\n",
       "    </tr>\n",
       "    <tr>\n",
       "      <th>15034</th>\n",
       "      <td>9.0301</td>\n",
       "      <td>1005.6</td>\n",
       "      <td>98.460</td>\n",
       "      <td>3.5421</td>\n",
       "      <td>19.164</td>\n",
       "      <td>1049.7</td>\n",
       "      <td>546.21</td>\n",
       "      <td>111.61</td>\n",
       "      <td>10.400</td>\n",
       "      <td>4.5186</td>\n",
       "      <td>79.559</td>\n",
       "    </tr>\n",
       "    <tr>\n",
       "      <th>15035</th>\n",
       "      <td>7.8879</td>\n",
       "      <td>1005.9</td>\n",
       "      <td>99.093</td>\n",
       "      <td>3.5059</td>\n",
       "      <td>19.414</td>\n",
       "      <td>1046.3</td>\n",
       "      <td>543.22</td>\n",
       "      <td>111.78</td>\n",
       "      <td>10.433</td>\n",
       "      <td>4.8470</td>\n",
       "      <td>79.917</td>\n",
       "    </tr>\n",
       "    <tr>\n",
       "      <th>15036</th>\n",
       "      <td>7.2647</td>\n",
       "      <td>1006.3</td>\n",
       "      <td>99.496</td>\n",
       "      <td>3.4770</td>\n",
       "      <td>19.530</td>\n",
       "      <td>1037.7</td>\n",
       "      <td>537.32</td>\n",
       "      <td>110.19</td>\n",
       "      <td>10.483</td>\n",
       "      <td>7.9632</td>\n",
       "      <td>90.912</td>\n",
       "    </tr>\n",
       "    <tr>\n",
       "      <th>15037</th>\n",
       "      <td>7.0060</td>\n",
       "      <td>1006.8</td>\n",
       "      <td>99.008</td>\n",
       "      <td>3.4486</td>\n",
       "      <td>19.377</td>\n",
       "      <td>1043.2</td>\n",
       "      <td>541.24</td>\n",
       "      <td>110.74</td>\n",
       "      <td>10.533</td>\n",
       "      <td>6.2494</td>\n",
       "      <td>93.227</td>\n",
       "    </tr>\n",
       "    <tr>\n",
       "      <th>15038</th>\n",
       "      <td>6.9279</td>\n",
       "      <td>1007.2</td>\n",
       "      <td>97.533</td>\n",
       "      <td>3.4275</td>\n",
       "      <td>19.306</td>\n",
       "      <td>1049.9</td>\n",
       "      <td>545.85</td>\n",
       "      <td>111.58</td>\n",
       "      <td>10.583</td>\n",
       "      <td>4.9816</td>\n",
       "      <td>92.498</td>\n",
       "    </tr>\n",
       "  </tbody>\n",
       "</table>\n",
       "<p>15039 rows × 11 columns</p>\n",
       "</div>"
      ],
      "text/plain": [
       "           AT      AP      AH    AFDP    GTEP     TIT     TAT     TEY     CDP  \\\n",
       "0      6.8594  1007.9  96.799  3.5000  19.663  1059.2  550.00  114.70  10.605   \n",
       "1      6.7850  1008.4  97.118  3.4998  19.728  1059.3  550.00  114.72  10.598   \n",
       "2      6.8977  1008.8  95.939  3.4824  19.779  1059.4  549.87  114.71  10.601   \n",
       "3      7.0569  1009.2  95.249  3.4805  19.792  1059.6  549.99  114.72  10.606   \n",
       "4      7.3978  1009.7  95.150  3.4976  19.765  1059.7  549.98  114.72  10.612   \n",
       "...       ...     ...     ...     ...     ...     ...     ...     ...     ...   \n",
       "15034  9.0301  1005.6  98.460  3.5421  19.164  1049.7  546.21  111.61  10.400   \n",
       "15035  7.8879  1005.9  99.093  3.5059  19.414  1046.3  543.22  111.78  10.433   \n",
       "15036  7.2647  1006.3  99.496  3.4770  19.530  1037.7  537.32  110.19  10.483   \n",
       "15037  7.0060  1006.8  99.008  3.4486  19.377  1043.2  541.24  110.74  10.533   \n",
       "15038  6.9279  1007.2  97.533  3.4275  19.306  1049.9  545.85  111.58  10.583   \n",
       "\n",
       "           CO     NOX  \n",
       "0      3.1547  82.722  \n",
       "1      3.2363  82.776  \n",
       "2      3.2012  82.468  \n",
       "3      3.1923  82.670  \n",
       "4      3.2484  82.311  \n",
       "...       ...     ...  \n",
       "15034  4.5186  79.559  \n",
       "15035  4.8470  79.917  \n",
       "15036  7.9632  90.912  \n",
       "15037  6.2494  93.227  \n",
       "15038  4.9816  92.498  \n",
       "\n",
       "[15039 rows x 11 columns]"
      ]
     },
     "execution_count": 3,
     "metadata": {},
     "output_type": "execute_result"
    }
   ],
   "source": [
    "data=pd.read_csv('C:/Users/NAMRATA/Downloads/DATA SCIENCE/ASSIGNMENT/Neural Networks/gas_turbines.csv')\n",
    "data"
   ]
  },
  {
   "cell_type": "code",
   "execution_count": 4,
   "metadata": {},
   "outputs": [
    {
     "data": {
      "text/plain": [
       "Index(['AT', 'AP', 'AH', 'AFDP', 'GTEP', 'TIT', 'TAT', 'TEY', 'CDP', 'CO',\n",
       "       'NOX'],\n",
       "      dtype='object')"
      ]
     },
     "execution_count": 4,
     "metadata": {},
     "output_type": "execute_result"
    }
   ],
   "source": [
    "data.columns"
   ]
  },
  {
   "cell_type": "code",
   "execution_count": 5,
   "metadata": {},
   "outputs": [],
   "source": [
    "# Using only ambient variables as features and TEY as target variable as given in problem statement"
   ]
  },
  {
   "cell_type": "code",
   "execution_count": 6,
   "metadata": {},
   "outputs": [],
   "source": [
    "x=data[['AT', 'AP', 'AH']]\n",
    "y=data['TEY']"
   ]
  },
  {
   "cell_type": "code",
   "execution_count": 7,
   "metadata": {},
   "outputs": [],
   "source": [
    "# Splitting data to train and test"
   ]
  },
  {
   "cell_type": "code",
   "execution_count": 8,
   "metadata": {},
   "outputs": [
    {
     "name": "stdout",
     "output_type": "stream",
     "text": [
      "(10527, 3)\n",
      "(10527,)\n",
      "(4512, 3)\n",
      "(4512,)\n"
     ]
    }
   ],
   "source": [
    "from sklearn.model_selection import train_test_split\n",
    "x_train, x_test, y_train, y_test = train_test_split(x, y, test_size=0.3, random_state=42)\n",
    " \n",
    "\n",
    "print(x_train.shape)\n",
    "print(y_train.shape)\n",
    "print(x_test.shape)\n",
    "print(y_test.shape)"
   ]
  },
  {
   "cell_type": "code",
   "execution_count": 9,
   "metadata": {},
   "outputs": [],
   "source": [
    "# Buliding model with 3 hidden layers"
   ]
  },
  {
   "cell_type": "code",
   "execution_count": 10,
   "metadata": {},
   "outputs": [],
   "source": [
    "model = Sequential()\n",
    "model.add(Dense(units=12, input_dim=3, kernel_initializer='normal', activation='relu'))\n",
    "model.add(Dense(units=8, kernel_initializer='normal', activation='tanh'))\n",
    "model.add(Dense(1, kernel_initializer='normal'))"
   ]
  },
  {
   "cell_type": "code",
   "execution_count": 11,
   "metadata": {},
   "outputs": [],
   "source": [
    "# Compiling the model with Mean squared error as this is regression problem"
   ]
  },
  {
   "cell_type": "code",
   "execution_count": 12,
   "metadata": {},
   "outputs": [],
   "source": [
    "model.compile(loss='mean_squared_error', optimizer='adam')"
   ]
  },
  {
   "cell_type": "code",
   "execution_count": 13,
   "metadata": {},
   "outputs": [],
   "source": [
    "# Fitting the model with 50 epochs and batch size as 10"
   ]
  },
  {
   "cell_type": "code",
   "execution_count": 14,
   "metadata": {},
   "outputs": [
    {
     "name": "stdout",
     "output_type": "stream",
     "text": [
      "Epoch 1/50\n",
      "1053/1053 [==============================] - 11s 734us/step - loss: 17639.9086\n",
      "Epoch 2/50\n",
      "1053/1053 [==============================] - 1s 720us/step - loss: 15219.5665\n",
      "Epoch 3/50\n",
      "1053/1053 [==============================] - 1s 728us/step - loss: 13118.1561\n",
      "Epoch 4/50\n",
      "1053/1053 [==============================] - 1s 724us/step - loss: 11183.6453\n",
      "Epoch 5/50\n",
      "1053/1053 [==============================] - 1s 726us/step - loss: 9462.9459\n",
      "Epoch 6/50\n",
      "1053/1053 [==============================] - ETA: 0s - loss: 7796.30 - 1s 730us/step - loss: 7794.0658\n",
      "Epoch 7/50\n",
      "1053/1053 [==============================] - 1s 731us/step - loss: 6398.2061\n",
      "Epoch 8/50\n",
      "1053/1053 [==============================] - 1s 754us/step - loss: 5101.8225\n",
      "Epoch 9/50\n",
      "1053/1053 [==============================] - 1s 729us/step - loss: 4054.4656\n",
      "Epoch 10/50\n",
      "1053/1053 [==============================] - 1s 726us/step - loss: 3074.8647\n",
      "Epoch 11/50\n",
      "1053/1053 [==============================] - 1s 747us/step - loss: 2304.2530\n",
      "Epoch 12/50\n",
      "1053/1053 [==============================] - 1s 748us/step - loss: 1647.1739\n",
      "Epoch 13/50\n",
      "1053/1053 [==============================] - 1s 734us/step - loss: 1135.1955\n",
      "Epoch 14/50\n",
      "1053/1053 [==============================] - 1s 739us/step - loss: 765.1432\n",
      "Epoch 15/50\n",
      "1053/1053 [==============================] - 1s 734us/step - loss: 509.6272\n",
      "Epoch 16/50\n",
      "1053/1053 [==============================] - 1s 742us/step - loss: 356.2228\n",
      "Epoch 17/50\n",
      "1053/1053 [==============================] - 1s 730us/step - loss: 282.5316\n",
      "Epoch 18/50\n",
      "1053/1053 [==============================] - 1s 730us/step - loss: 252.7166\n",
      "Epoch 19/50\n",
      "1053/1053 [==============================] - 1s 733us/step - loss: 254.5593\n",
      "Epoch 20/50\n",
      "1053/1053 [==============================] - 1s 730us/step - loss: 249.9570\n",
      "Epoch 21/50\n",
      "1053/1053 [==============================] - 1s 723us/step - loss: 253.6041\n",
      "Epoch 22/50\n",
      "1053/1053 [==============================] - 1s 734us/step - loss: 249.8215\n",
      "Epoch 23/50\n",
      "1053/1053 [==============================] - 1s 805us/step - loss: 247.9788\n",
      "Epoch 24/50\n",
      "1053/1053 [==============================] - 1s 852us/step - loss: 249.1002\n",
      "Epoch 25/50\n",
      "1053/1053 [==============================] - 1s 809us/step - loss: 251.0324\n",
      "Epoch 26/50\n",
      "1053/1053 [==============================] - 1s 749us/step - loss: 245.8636\n",
      "Epoch 27/50\n",
      "1053/1053 [==============================] - 1s 718us/step - loss: 251.1710\n",
      "Epoch 28/50\n",
      "1053/1053 [==============================] - 1s 714us/step - loss: 250.8579\n",
      "Epoch 29/50\n",
      "1053/1053 [==============================] - 1s 721us/step - loss: 247.1853\n",
      "Epoch 30/50\n",
      "1053/1053 [==============================] - 1s 723us/step - loss: 252.8288\n",
      "Epoch 31/50\n",
      "1053/1053 [==============================] - 1s 726us/step - loss: 253.9128\n",
      "Epoch 32/50\n",
      "1053/1053 [==============================] - 1s 724us/step - loss: 250.4692\n",
      "Epoch 33/50\n",
      "1053/1053 [==============================] - 1s 731us/step - loss: 251.5999\n",
      "Epoch 34/50\n",
      "1053/1053 [==============================] - 1s 722us/step - loss: 245.0065\n",
      "Epoch 35/50\n",
      "1053/1053 [==============================] - 1s 734us/step - loss: 248.1625\n",
      "Epoch 36/50\n",
      "1053/1053 [==============================] - 1s 718us/step - loss: 248.5746\n",
      "Epoch 37/50\n",
      "1053/1053 [==============================] - 1s 725us/step - loss: 246.8238\n",
      "Epoch 38/50\n",
      "1053/1053 [==============================] - 1s 724us/step - loss: 248.0072\n",
      "Epoch 39/50\n",
      "1053/1053 [==============================] - 1s 728us/step - loss: 251.5317\n",
      "Epoch 40/50\n",
      "1053/1053 [==============================] - 1s 794us/step - loss: 247.6836\n",
      "Epoch 41/50\n",
      "1053/1053 [==============================] - 1s 828us/step - loss: 248.4190\n",
      "Epoch 42/50\n",
      "1053/1053 [==============================] - 1s 763us/step - loss: 251.1865\n",
      "Epoch 43/50\n",
      "1053/1053 [==============================] - 1s 718us/step - loss: 252.8249\n",
      "Epoch 44/50\n",
      "1053/1053 [==============================] - 1s 730us/step - loss: 250.4703\n",
      "Epoch 45/50\n",
      "1053/1053 [==============================] - 1s 726us/step - loss: 251.3703\n",
      "Epoch 46/50\n",
      "1053/1053 [==============================] - 1s 719us/step - loss: 251.1538\n",
      "Epoch 47/50\n",
      "1053/1053 [==============================] - 1s 722us/step - loss: 252.0761 0s - l\n",
      "Epoch 48/50\n",
      "1053/1053 [==============================] - 1s 720us/step - loss: 249.1986\n",
      "Epoch 49/50\n",
      "1053/1053 [==============================] - 1s 729us/step - loss: 246.4662\n",
      "Epoch 50/50\n",
      "1053/1053 [==============================] - 1s 725us/step - loss: 248.3483\n"
     ]
    }
   ],
   "source": [
    "m=model.fit(x_train, y_train, epochs=50, batch_size=10)"
   ]
  },
  {
   "cell_type": "code",
   "execution_count": 15,
   "metadata": {},
   "outputs": [],
   "source": [
    "# Predicting for test data"
   ]
  },
  {
   "cell_type": "code",
   "execution_count": 16,
   "metadata": {},
   "outputs": [
    {
     "data": {
      "text/plain": [
       "array([[134.19597],\n",
       "       [134.19597],\n",
       "       [134.19597],\n",
       "       ...,\n",
       "       [134.19597],\n",
       "       [134.19597],\n",
       "       [134.19597]], dtype=float32)"
      ]
     },
     "execution_count": 16,
     "metadata": {},
     "output_type": "execute_result"
    }
   ],
   "source": [
    "Predictions=model.predict(x_test)\n",
    "Predictions"
   ]
  },
  {
   "cell_type": "code",
   "execution_count": 17,
   "metadata": {},
   "outputs": [
    {
     "name": "stdout",
     "output_type": "stream",
     "text": [
      "13312    134.46\n",
      "12627    111.88\n",
      "6393     133.72\n",
      "4990     133.79\n",
      "12462    110.77\n",
      "          ...  \n",
      "7495     134.08\n",
      "11501    102.87\n",
      "2685     155.96\n",
      "9412     133.67\n",
      "9775     156.32\n",
      "Name: TEY, Length: 4512, dtype: float64\n"
     ]
    }
   ],
   "source": [
    "print(y_test)"
   ]
  },
  {
   "cell_type": "code",
   "execution_count": 18,
   "metadata": {},
   "outputs": [],
   "source": [
    "# Finding the error for our model"
   ]
  },
  {
   "cell_type": "code",
   "execution_count": 19,
   "metadata": {},
   "outputs": [
    {
     "data": {
      "text/plain": [
       "15.886670238873435"
      ]
     },
     "execution_count": 19,
     "metadata": {},
     "output_type": "execute_result"
    }
   ],
   "source": [
    "mean_squared_error(y_test,Predictions)\n",
    "math.sqrt(mean_squared_error(y_test,Predictions))"
   ]
  },
  {
   "cell_type": "markdown",
   "metadata": {},
   "source": [
    "We got error of 15.8 for our model using above parameters"
   ]
  }
 ],
 "metadata": {
  "kernelspec": {
   "display_name": "Python 3",
   "language": "python",
   "name": "python3"
  },
  "language_info": {
   "codemirror_mode": {
    "name": "ipython",
    "version": 3
   },
   "file_extension": ".py",
   "mimetype": "text/x-python",
   "name": "python",
   "nbconvert_exporter": "python",
   "pygments_lexer": "ipython3",
   "version": "3.8.5"
  }
 },
 "nbformat": 4,
 "nbformat_minor": 4
}
